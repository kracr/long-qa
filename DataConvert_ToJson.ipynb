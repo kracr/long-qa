{
 "cells": [
  {
   "cell_type": "code",
   "execution_count": 2,
   "id": "624f0278",
   "metadata": {},
   "outputs": [],
   "source": [
    "import pandas as pd "
   ]
  },
  {
   "cell_type": "code",
   "execution_count": 8,
   "id": "46111823",
   "metadata": {},
   "outputs": [],
   "source": [
    "dataset=pd.read_csv('../Our_Dataset.csv')"
   ]
  },
  {
   "cell_type": "code",
   "execution_count": 9,
   "id": "0e85bb96",
   "metadata": {},
   "outputs": [
    {
     "data": {
      "text/html": [
       "<div>\n",
       "<style scoped>\n",
       "    .dataframe tbody tr th:only-of-type {\n",
       "        vertical-align: middle;\n",
       "    }\n",
       "\n",
       "    .dataframe tbody tr th {\n",
       "        vertical-align: top;\n",
       "    }\n",
       "\n",
       "    .dataframe thead th {\n",
       "        text-align: right;\n",
       "    }\n",
       "</style>\n",
       "<table border=\"1\" class=\"dataframe\">\n",
       "  <thead>\n",
       "    <tr style=\"text-align: right;\">\n",
       "      <th></th>\n",
       "      <th>Unnamed: 0</th>\n",
       "      <th>questions</th>\n",
       "      <th>answers</th>\n",
       "    </tr>\n",
       "  </thead>\n",
       "  <tbody>\n",
       "    <tr>\n",
       "      <th>0</th>\n",
       "      <td>0</td>\n",
       "      <td>'What was the first chapel at Chowbent built?'</td>\n",
       "      <td>St John the Baptist's Church, Atherton History...</td>\n",
       "    </tr>\n",
       "    <tr>\n",
       "      <th>1</th>\n",
       "      <td>1</td>\n",
       "      <td>'What was the cost of the first chapel replace...</td>\n",
       "      <td>Man.\\nThe first chapel was replaced by a new S...</td>\n",
       "    </tr>\n",
       "    <tr>\n",
       "      <th>2</th>\n",
       "      <td>2</td>\n",
       "      <td>'What was the roof of the church damaged in 19...</td>\n",
       "      <td>120 feet (37 m) high, was completed between 18...</td>\n",
       "    </tr>\n",
       "    <tr>\n",
       "      <th>3</th>\n",
       "      <td>3</td>\n",
       "      <td>\"What was Stanwell's main barrier from?\"</td>\n",
       "      <td>Stanwell Moor History and geography The locali...</td>\n",
       "    </tr>\n",
       "    <tr>\n",
       "      <th>4</th>\n",
       "      <td>4</td>\n",
       "      <td>'What is the name of the community in the Stan...</td>\n",
       "      <td>which makes up gravel deposits near to the sur...</td>\n",
       "    </tr>\n",
       "  </tbody>\n",
       "</table>\n",
       "</div>"
      ],
      "text/plain": [
       "   Unnamed: 0                                          questions  \\\n",
       "0           0     'What was the first chapel at Chowbent built?'   \n",
       "1           1  'What was the cost of the first chapel replace...   \n",
       "2           2  'What was the roof of the church damaged in 19...   \n",
       "3           3           \"What was Stanwell's main barrier from?\"   \n",
       "4           4  'What is the name of the community in the Stan...   \n",
       "\n",
       "                                             answers  \n",
       "0  St John the Baptist's Church, Atherton History...  \n",
       "1  Man.\\nThe first chapel was replaced by a new S...  \n",
       "2  120 feet (37 m) high, was completed between 18...  \n",
       "3  Stanwell Moor History and geography The locali...  \n",
       "4  which makes up gravel deposits near to the sur...  "
      ]
     },
     "execution_count": 9,
     "metadata": {},
     "output_type": "execute_result"
    }
   ],
   "source": [
    "dataset.head()"
   ]
  },
  {
   "cell_type": "code",
   "execution_count": 12,
   "id": "1a821fbf",
   "metadata": {},
   "outputs": [
    {
     "name": "stdout",
     "output_type": "stream",
     "text": [
      "St John the Baptist's Church, Atherton History There have been three chapels or churches on the site of St John the Baptist parish church. The first chapel at Chowbent was built in 1645 by John Atherton as a chapel of ease of Leigh Parish Church. It was sometimes referred to as the Old Bent Chapel. It was not consecrated and used by the Presbyterians as well as the Vicar of Leigh. In 1721 Lord of the manor Richard Atherton expelled the dissenters who subsequently built Chowbent Chapel. The first chapel was consecrated in 1723 by the Bishop of Sodor and\n",
      "{0: {'paragraphs': \"St John the Baptist's Church, Atherton History There have been three chapels or churches on the site of St John the Baptist parish church. The first chapel at Chowbent was built in 1645 by John Atherton as a chapel of ease of Leigh Parish Church. It was sometimes referred to as the Old Bent Chapel. It was not consecrated and used by the Presbyterians as well as the Vicar of Leigh. In 1721 Lord of the manor Richard Atherton expelled the dissenters who subsequently built Chowbent Chapel. The first chapel was consecrated in 1723 by the Bishop of Sodor and\"}}\n",
      "'What was the first chapel at Chowbent built?'\n"
     ]
    }
   ],
   "source": [
    "all_answers={}\n",
    "count=0\n",
    "for i in range (0,len(dataset)):\n",
    "    all_answers[count]={'paragraphs': dataset['answers'][i]}\n",
    "    if(count==0):\n",
    "        print(dataset['answers'][i])\n",
    "        print(all_answers)\n",
    "        print(dataset['questions'][i])\n",
    "    count+=1"
   ]
  },
  {
   "cell_type": "code",
   "execution_count": 13,
   "id": "639aad7f",
   "metadata": {},
   "outputs": [],
   "source": [
    "import json\n",
    "with open('./../data/our_dataset.json', 'w') as file:\n",
    "    file.write(json.dumps(all_answers))\n"
   ]
  }
 ],
 "metadata": {
  "kernelspec": {
   "display_name": "3.8",
   "language": "python",
   "name": "3.8"
  },
  "language_info": {
   "codemirror_mode": {
    "name": "ipython",
    "version": 3
   },
   "file_extension": ".py",
   "mimetype": "text/x-python",
   "name": "python",
   "nbconvert_exporter": "python",
   "pygments_lexer": "ipython3",
   "version": "3.9.12"
  }
 },
 "nbformat": 4,
 "nbformat_minor": 5
}
